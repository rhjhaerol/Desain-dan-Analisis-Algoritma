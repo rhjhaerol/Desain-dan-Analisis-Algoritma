{
  "cells": [
    {
      "cell_type": "code",
      "execution_count": null,
      "metadata": {
        "id": "4pq1hdMk2qbX"
      },
      "outputs": [],
      "source": [
        "# Muhammad Rahaji Jhaerol\n",
        "# 19102144\n",
        "# S1IF07SC1\n",
        "# Kompleksitas Algoritma Sorting\n",
        "# Bubble sort dan Merge sort"
      ]
    },
    {
      "cell_type": "code",
      "source": [
        "# spesifikasi hardware\n",
        "# RAM: 8192MB \n",
        "# CPU: Intel(R) Core(TM) i5-8265U CPU @ 1.60GHz (8 CPUs), ~1.8GHz\n",
        "# OS: Windows 11 Home Single Language 64-bit (10.0, Build 22000) (22000.co_release.210604-1628)\n",
        "# Bahasa Pemrograman: Python\n",
        "# IDE: Google Colaboratory"
      ],
      "metadata": {
        "id": "1c8bf0gsOdlj"
      },
      "execution_count": null,
      "outputs": []
    },
    {
      "cell_type": "code",
      "execution_count": 1,
      "metadata": {
        "id": "bjLnfD_i1oqV"
      },
      "outputs": [],
      "source": [
        "# library yang digunakan \n",
        "from random import randint # set nilai random\n",
        "import time # set waktu"
      ]
    },
    {
      "cell_type": "code",
      "source": [
        "# deklarasi array kosong untuk menampung nilai time dan n\n",
        "arrTimeBubbleSort = []\n",
        "arrTimeMergeSort = []\n",
        "arrNsort = []"
      ],
      "metadata": {
        "id": "9TqpDoHmyQxT"
      },
      "execution_count": 2,
      "outputs": []
    },
    {
      "cell_type": "code",
      "execution_count": 21,
      "metadata": {
        "colab": {
          "base_uri": "https://localhost:8080/"
        },
        "id": "KrJsP8lJ3ESv",
        "outputId": "6660c64e-60b2-4561-902b-1591df0a38dc"
      },
      "outputs": [
        {
          "name": "stdout",
          "output_type": "stream",
          "text": [
            "Masukan nilai n : 1000\n"
          ]
        }
      ],
      "source": [
        "# deklarasi array kosong untuk menampung nilai dari bubble and merge\n",
        "arrBubble = []\n",
        "arrMerge = []\n",
        "# inputan nilai n sebagai panjang array/banyak data\n",
        "n = int(input(\"Masukan nilai n : \"))\n",
        "b = 0\n",
        "# perulangan dengan range n\n",
        "for j in range(n):\n",
        "  # inisialisasi data dengan nilai random dari 1-100\n",
        "  data = randint(0, 100)\n",
        "  b = data\n",
        "  # menambahkan data ke array bubble/merge\n",
        "  arrBubble.append(b)\n",
        "  arrMerge.append(b)"
      ]
    },
    {
      "cell_type": "code",
      "source": [
        "print(arrBubble)"
      ],
      "metadata": {
        "colab": {
          "base_uri": "https://localhost:8080/"
        },
        "id": "ilNotTIa5B4_",
        "outputId": "a183572d-80ef-4fdf-e0da-444455c928fc"
      },
      "execution_count": 22,
      "outputs": [
        {
          "output_type": "stream",
          "name": "stdout",
          "text": [
            "[18, 7, 28, 91, 71, 40, 79, 67, 30, 73, 94, 4, 36, 35, 58, 33, 62, 17, 46, 33, 31, 100, 89, 96, 46, 22, 74, 28, 75, 99, 62, 20, 39, 8, 41, 35, 32, 88, 17, 73, 59, 35, 8, 16, 61, 96, 0, 35, 56, 44, 20, 80, 37, 100, 47, 27, 31, 85, 44, 78, 98, 20, 43, 33, 30, 2, 28, 57, 72, 80, 89, 74, 52, 69, 58, 48, 14, 17, 44, 89, 83, 70, 72, 26, 9, 74, 20, 10, 46, 3, 86, 30, 29, 5, 61, 52, 19, 0, 78, 10, 69, 98, 87, 48, 89, 26, 19, 88, 54, 57, 84, 45, 61, 4, 98, 46, 7, 51, 13, 27, 16, 17, 89, 14, 7, 66, 20, 39, 68, 15, 25, 23, 1, 69, 76, 97, 82, 75, 16, 100, 81, 28, 65, 54, 15, 66, 69, 1, 38, 83, 94, 36, 30, 44, 41, 9, 34, 31, 58, 61, 18, 31, 35, 77, 87, 97, 61, 3, 43, 5, 98, 24, 84, 78, 9, 50, 6, 33, 68, 39, 75, 11, 79, 81, 5, 28, 10, 54, 19, 98, 8, 54, 94, 85, 36, 14, 77, 88, 35, 84, 73, 27, 29, 84, 81, 95, 39, 68, 41, 85, 21, 17, 88, 51, 93, 53, 9, 65, 21, 91, 99, 61, 68, 95, 30, 84, 63, 41, 65, 58, 42, 5, 47, 84, 96, 99, 24, 66, 47, 31, 38, 63, 37, 87, 27, 40, 33, 71, 16, 15, 31, 63, 3, 89, 25, 16, 15, 45, 86, 85, 39, 89, 53, 38, 11, 10, 76, 21, 67, 57, 64, 98, 67, 74, 73, 77, 64, 68, 52, 7, 43, 46, 2, 32, 16, 85, 9, 77, 66, 60, 29, 90, 28, 30, 93, 93, 99, 57, 31, 0, 46, 1, 94, 65, 9, 32, 22, 13, 53, 96, 57, 0, 55, 63, 20, 8, 16, 15, 100, 76, 92, 58, 25, 31, 11, 35, 89, 17, 4, 5, 7, 30, 66, 23, 48, 15, 91, 49, 15, 24, 28, 78, 29, 55, 18, 51, 52, 36, 5, 47, 1, 71, 23, 92, 0, 73, 100, 99, 87, 9, 66, 96, 48, 33, 3, 93, 1, 56, 30, 21, 70, 5, 79, 49, 40, 9, 6, 35, 80, 55, 20, 46, 99, 51, 13, 20, 71, 92, 0, 19, 64, 82, 71, 81, 70, 11, 45, 22, 73, 71, 57, 46, 9, 92, 81, 50, 79, 15, 47, 38, 73, 81, 0, 5, 97, 16, 24, 5, 88, 48, 74, 24, 12, 17, 55, 66, 69, 82, 24, 7, 0, 65, 1, 44, 65, 59, 42, 89, 42, 84, 88, 90, 95, 84, 95, 84, 77, 49, 99, 77, 56, 47, 67, 14, 25, 39, 65, 80, 27, 67, 44, 68, 34, 0, 59, 84, 50, 46, 78, 74, 38, 69, 3, 72, 12, 71, 82, 92, 6, 50, 3, 66, 35, 30, 33, 19, 53, 1, 54, 48, 100, 93, 12, 73, 2, 82, 17, 63, 3, 49, 26, 89, 93, 80, 94, 98, 47, 71, 89, 59, 46, 58, 0, 13, 95, 44, 31, 85, 14, 32, 56, 86, 23, 33, 9, 98, 11, 74, 49, 14, 28, 62, 27, 54, 97, 29, 5, 29, 24, 98, 96, 4, 2, 43, 9, 5, 89, 82, 54, 79, 61, 30, 34, 34, 62, 59, 32, 7, 93, 52, 6, 47, 34, 78, 63, 32, 100, 20, 2, 91, 15, 45, 11, 100, 57, 71, 16, 90, 66, 51, 40, 68, 52, 49, 20, 57, 69, 39, 64, 85, 12, 84, 46, 61, 93, 17, 57, 45, 42, 45, 8, 94, 47, 73, 94, 4, 57, 19, 60, 2, 69, 57, 27, 72, 44, 86, 58, 83, 24, 31, 68, 10, 31, 56, 1, 93, 50, 49, 32, 35, 2, 8, 7, 59, 22, 43, 75, 97, 0, 33, 79, 83, 25, 36, 59, 76, 46, 16, 50, 34, 55, 55, 64, 51, 42, 27, 53, 85, 65, 9, 63, 32, 22, 43, 38, 99, 16, 76, 48, 80, 68, 100, 60, 21, 17, 87, 1, 62, 13, 25, 71, 77, 73, 81, 56, 32, 13, 24, 73, 70, 66, 87, 87, 35, 0, 18, 33, 73, 36, 13, 95, 73, 24, 6, 11, 46, 65, 51, 6, 50, 59, 35, 70, 83, 47, 5, 23, 86, 14, 57, 69, 88, 27, 66, 3, 1, 82, 99, 91, 51, 62, 79, 17, 33, 35, 1, 93, 88, 1, 37, 60, 17, 6, 66, 26, 53, 91, 39, 68, 16, 2, 3, 43, 22, 83, 33, 85, 21, 17, 34, 53, 32, 60, 54, 37, 98, 8, 100, 0, 32, 55, 97, 95, 99, 58, 71, 69, 78, 37, 27, 48, 71, 68, 80, 61, 91, 35, 27, 15, 62, 14, 95, 54, 100, 51, 73, 33, 43, 72, 20, 22, 54, 76, 74, 14, 19, 91, 48, 9, 100, 90, 8, 52, 54, 59, 62, 47, 55, 14, 71, 70, 62, 57, 61, 78, 66, 36, 94, 97, 83, 34, 45, 83, 6, 53, 49, 3, 72, 94, 86, 8, 43, 81, 31, 5, 33, 66, 51, 48, 10, 62, 96, 35, 49, 86, 64, 3, 59, 92, 20, 58, 45, 0, 3, 19, 94, 39, 61, 91, 26, 51, 34, 19, 69, 100, 61, 63, 69, 97, 65, 52, 63, 48, 36, 40, 48, 36, 8, 49, 34, 14, 37, 40, 79, 91, 29, 8, 69, 84, 70, 58, 5, 89, 48, 49, 41, 95, 93, 38, 83, 57, 75, 15, 90, 48, 76, 81, 86, 50, 72, 59, 75, 61, 89, 38, 20, 59, 2, 60, 89, 59, 85, 68, 10, 92, 85, 100, 43, 24, 19, 75, 69, 80, 12, 96, 28, 58, 12, 2, 11, 2, 77, 19, 88, 31, 59, 52, 94, 82, 85, 8, 26, 29, 16, 24, 92, 15, 8, 11, 11, 14, 18, 8, 31, 1, 65, 12, 77, 95, 35, 24, 82, 64, 7, 82, 21, 12, 62, 25, 21, 52, 29, 29, 57, 2, 33, 99, 18, 49, 54]\n"
          ]
        }
      ]
    },
    {
      "cell_type": "code",
      "execution_count": 5,
      "metadata": {
        "id": "2QY1W4yp5DA4"
      },
      "outputs": [],
      "source": [
        "# Algoritma Sorting Bubble Sort\n",
        "# reference: https://www.geeksforgeeks.org/python-program-for-bubble-sort/\n",
        "def bubbleSort(elements):\n",
        "  # Perulangan dari ukuran array dari indeks terakhir[-1] ke indeks [0]\n",
        "  for n in range(len(elements)-1, 0, -1):\n",
        "    for i in range(n):\n",
        "      if elements[i] > elements[i + 1]:\n",
        "        # menukar data jika elemennya kurang dari elemen berikutnya dalam array\n",
        "        elements[i], elements[i + 1] = elements[i + 1], elements[i]"
      ]
    },
    {
      "cell_type": "code",
      "execution_count": 6,
      "metadata": {
        "id": "E_FhDK1aACNu"
      },
      "outputs": [],
      "source": [
        "# Algoritma Merge Sort\n",
        "# reference: https://www.geeksforgeeks.org/python-program-for-merge-sort/\n",
        "def merge(arr, l, m, r):\n",
        "    n1 = m - l + 1\n",
        "    n2 = r - m\n",
        " \n",
        "    # buat temp arrays\n",
        "    L = [0] * (n1)\n",
        "    R = [0] * (n2)\n",
        " \n",
        "    # Salin data ke temp arrays L[] and R[]\n",
        "    for i in range(0, n1):\n",
        "        L[i] = arr[l + i]\n",
        " \n",
        "    for j in range(0, n2):\n",
        "        R[j] = arr[m + 1 + j]\n",
        " \n",
        "    # Merge temp arrays kembali ke arr[l..r]\n",
        "    i = 0     # inisialisasi index pertama dari subarray\n",
        "    j = 0     # inisialisasi index kedua dari subarray\n",
        "    k = l     # Inisialisasi index merged dari subarray\n",
        " \n",
        "    while i < n1 and j < n2:\n",
        "        if L[i] <= R[j]:\n",
        "            arr[k] = L[i]\n",
        "            i += 1\n",
        "        else:\n",
        "            arr[k] = R[j]\n",
        "            j += 1\n",
        "        k += 1\n",
        " \n",
        "    # Salin elemen L[] yang tersisa, jika ada\n",
        "    while i < n1:\n",
        "        arr[k] = L[i]\n",
        "        i += 1\n",
        "        k += 1\n",
        " \n",
        "    # Salin elemen R[] yang tersisa, jika ada\n",
        "    while j < n2:\n",
        "        arr[k] = R[j]\n",
        "        j += 1\n",
        "        k += 1\n",
        " \n",
        "# l adalah untuk indeks kiri dan r adalah indeks kanan dari\n",
        "# sub-array arr yang akan diurutkan\n",
        " \n",
        " \n",
        "def mergeSort(arr, l, r):\n",
        "    if l < r:\n",
        " \n",
        "        # Sama seperti (l+r)//2, tetapi menghindari overflow untuk\n",
        "        # besar l dan h\n",
        "        m = l+(r-l)//2\n",
        " \n",
        "        # Urutkan bagian pertama dan kedua\n",
        "        mergeSort(arr, l, m)\n",
        "        mergeSort(arr, m+1, r)\n",
        "        merge(arr, l, m, r)"
      ]
    },
    {
      "cell_type": "code",
      "execution_count": 25,
      "metadata": {
        "colab": {
          "base_uri": "https://localhost:8080/"
        },
        "id": "CTcOKRKM4NFK",
        "outputId": "c0fc32b6-3dc6-49be-8da2-620bcc3f630b"
      },
      "outputs": [
        {
          "output_type": "stream",
          "name": "stdout",
          "text": [
            "Unsorted Array Bubble :\n",
            "[18, 7, 28, 91, 71, 40, 79, 67, 30, 73, 94, 4, 36, 35, 58, 33, 62, 17, 46, 33, 31, 100, 89, 96, 46, 22, 74, 28, 75, 99, 62, 20, 39, 8, 41, 35, 32, 88, 17, 73, 59, 35, 8, 16, 61, 96, 0, 35, 56, 44, 20, 80, 37, 100, 47, 27, 31, 85, 44, 78, 98, 20, 43, 33, 30, 2, 28, 57, 72, 80, 89, 74, 52, 69, 58, 48, 14, 17, 44, 89, 83, 70, 72, 26, 9, 74, 20, 10, 46, 3, 86, 30, 29, 5, 61, 52, 19, 0, 78, 10, 69, 98, 87, 48, 89, 26, 19, 88, 54, 57, 84, 45, 61, 4, 98, 46, 7, 51, 13, 27, 16, 17, 89, 14, 7, 66, 20, 39, 68, 15, 25, 23, 1, 69, 76, 97, 82, 75, 16, 100, 81, 28, 65, 54, 15, 66, 69, 1, 38, 83, 94, 36, 30, 44, 41, 9, 34, 31, 58, 61, 18, 31, 35, 77, 87, 97, 61, 3, 43, 5, 98, 24, 84, 78, 9, 50, 6, 33, 68, 39, 75, 11, 79, 81, 5, 28, 10, 54, 19, 98, 8, 54, 94, 85, 36, 14, 77, 88, 35, 84, 73, 27, 29, 84, 81, 95, 39, 68, 41, 85, 21, 17, 88, 51, 93, 53, 9, 65, 21, 91, 99, 61, 68, 95, 30, 84, 63, 41, 65, 58, 42, 5, 47, 84, 96, 99, 24, 66, 47, 31, 38, 63, 37, 87, 27, 40, 33, 71, 16, 15, 31, 63, 3, 89, 25, 16, 15, 45, 86, 85, 39, 89, 53, 38, 11, 10, 76, 21, 67, 57, 64, 98, 67, 74, 73, 77, 64, 68, 52, 7, 43, 46, 2, 32, 16, 85, 9, 77, 66, 60, 29, 90, 28, 30, 93, 93, 99, 57, 31, 0, 46, 1, 94, 65, 9, 32, 22, 13, 53, 96, 57, 0, 55, 63, 20, 8, 16, 15, 100, 76, 92, 58, 25, 31, 11, 35, 89, 17, 4, 5, 7, 30, 66, 23, 48, 15, 91, 49, 15, 24, 28, 78, 29, 55, 18, 51, 52, 36, 5, 47, 1, 71, 23, 92, 0, 73, 100, 99, 87, 9, 66, 96, 48, 33, 3, 93, 1, 56, 30, 21, 70, 5, 79, 49, 40, 9, 6, 35, 80, 55, 20, 46, 99, 51, 13, 20, 71, 92, 0, 19, 64, 82, 71, 81, 70, 11, 45, 22, 73, 71, 57, 46, 9, 92, 81, 50, 79, 15, 47, 38, 73, 81, 0, 5, 97, 16, 24, 5, 88, 48, 74, 24, 12, 17, 55, 66, 69, 82, 24, 7, 0, 65, 1, 44, 65, 59, 42, 89, 42, 84, 88, 90, 95, 84, 95, 84, 77, 49, 99, 77, 56, 47, 67, 14, 25, 39, 65, 80, 27, 67, 44, 68, 34, 0, 59, 84, 50, 46, 78, 74, 38, 69, 3, 72, 12, 71, 82, 92, 6, 50, 3, 66, 35, 30, 33, 19, 53, 1, 54, 48, 100, 93, 12, 73, 2, 82, 17, 63, 3, 49, 26, 89, 93, 80, 94, 98, 47, 71, 89, 59, 46, 58, 0, 13, 95, 44, 31, 85, 14, 32, 56, 86, 23, 33, 9, 98, 11, 74, 49, 14, 28, 62, 27, 54, 97, 29, 5, 29, 24, 98, 96, 4, 2, 43, 9, 5, 89, 82, 54, 79, 61, 30, 34, 34, 62, 59, 32, 7, 93, 52, 6, 47, 34, 78, 63, 32, 100, 20, 2, 91, 15, 45, 11, 100, 57, 71, 16, 90, 66, 51, 40, 68, 52, 49, 20, 57, 69, 39, 64, 85, 12, 84, 46, 61, 93, 17, 57, 45, 42, 45, 8, 94, 47, 73, 94, 4, 57, 19, 60, 2, 69, 57, 27, 72, 44, 86, 58, 83, 24, 31, 68, 10, 31, 56, 1, 93, 50, 49, 32, 35, 2, 8, 7, 59, 22, 43, 75, 97, 0, 33, 79, 83, 25, 36, 59, 76, 46, 16, 50, 34, 55, 55, 64, 51, 42, 27, 53, 85, 65, 9, 63, 32, 22, 43, 38, 99, 16, 76, 48, 80, 68, 100, 60, 21, 17, 87, 1, 62, 13, 25, 71, 77, 73, 81, 56, 32, 13, 24, 73, 70, 66, 87, 87, 35, 0, 18, 33, 73, 36, 13, 95, 73, 24, 6, 11, 46, 65, 51, 6, 50, 59, 35, 70, 83, 47, 5, 23, 86, 14, 57, 69, 88, 27, 66, 3, 1, 82, 99, 91, 51, 62, 79, 17, 33, 35, 1, 93, 88, 1, 37, 60, 17, 6, 66, 26, 53, 91, 39, 68, 16, 2, 3, 43, 22, 83, 33, 85, 21, 17, 34, 53, 32, 60, 54, 37, 98, 8, 100, 0, 32, 55, 97, 95, 99, 58, 71, 69, 78, 37, 27, 48, 71, 68, 80, 61, 91, 35, 27, 15, 62, 14, 95, 54, 100, 51, 73, 33, 43, 72, 20, 22, 54, 76, 74, 14, 19, 91, 48, 9, 100, 90, 8, 52, 54, 59, 62, 47, 55, 14, 71, 70, 62, 57, 61, 78, 66, 36, 94, 97, 83, 34, 45, 83, 6, 53, 49, 3, 72, 94, 86, 8, 43, 81, 31, 5, 33, 66, 51, 48, 10, 62, 96, 35, 49, 86, 64, 3, 59, 92, 20, 58, 45, 0, 3, 19, 94, 39, 61, 91, 26, 51, 34, 19, 69, 100, 61, 63, 69, 97, 65, 52, 63, 48, 36, 40, 48, 36, 8, 49, 34, 14, 37, 40, 79, 91, 29, 8, 69, 84, 70, 58, 5, 89, 48, 49, 41, 95, 93, 38, 83, 57, 75, 15, 90, 48, 76, 81, 86, 50, 72, 59, 75, 61, 89, 38, 20, 59, 2, 60, 89, 59, 85, 68, 10, 92, 85, 100, 43, 24, 19, 75, 69, 80, 12, 96, 28, 58, 12, 2, 11, 2, 77, 19, 88, 31, 59, 52, 94, 82, 85, 8, 26, 29, 16, 24, 92, 15, 8, 11, 11, 14, 18, 8, 31, 1, 65, 12, 77, 95, 35, 24, 82, 64, 7, 82, 21, 12, 62, 25, 21, 52, 29, 29, 57, 2, 33, 99, 18, 49, 54]\n",
            "Sorted Array Bubble :\n",
            "[0, 0, 0, 0, 0, 0, 0, 0, 0, 0, 0, 0, 0, 0, 1, 1, 1, 1, 1, 1, 1, 1, 1, 1, 1, 1, 1, 2, 2, 2, 2, 2, 2, 2, 2, 2, 2, 2, 2, 3, 3, 3, 3, 3, 3, 3, 3, 3, 3, 3, 3, 4, 4, 4, 4, 4, 5, 5, 5, 5, 5, 5, 5, 5, 5, 5, 5, 5, 5, 5, 6, 6, 6, 6, 6, 6, 6, 6, 7, 7, 7, 7, 7, 7, 7, 7, 7, 8, 8, 8, 8, 8, 8, 8, 8, 8, 8, 8, 8, 8, 8, 9, 9, 9, 9, 9, 9, 9, 9, 9, 9, 9, 9, 9, 10, 10, 10, 10, 10, 10, 10, 11, 11, 11, 11, 11, 11, 11, 11, 11, 11, 12, 12, 12, 12, 12, 12, 12, 12, 13, 13, 13, 13, 13, 13, 13, 14, 14, 14, 14, 14, 14, 14, 14, 14, 14, 14, 14, 15, 15, 15, 15, 15, 15, 15, 15, 15, 15, 15, 15, 16, 16, 16, 16, 16, 16, 16, 16, 16, 16, 16, 16, 16, 17, 17, 17, 17, 17, 17, 17, 17, 17, 17, 17, 17, 17, 18, 18, 18, 18, 18, 18, 19, 19, 19, 19, 19, 19, 19, 19, 19, 19, 19, 20, 20, 20, 20, 20, 20, 20, 20, 20, 20, 20, 20, 20, 21, 21, 21, 21, 21, 21, 21, 21, 22, 22, 22, 22, 22, 22, 22, 23, 23, 23, 23, 23, 24, 24, 24, 24, 24, 24, 24, 24, 24, 24, 24, 24, 24, 25, 25, 25, 25, 25, 25, 25, 26, 26, 26, 26, 26, 26, 27, 27, 27, 27, 27, 27, 27, 27, 27, 27, 27, 28, 28, 28, 28, 28, 28, 28, 28, 28, 29, 29, 29, 29, 29, 29, 29, 29, 29, 29, 30, 30, 30, 30, 30, 30, 30, 30, 30, 30, 31, 31, 31, 31, 31, 31, 31, 31, 31, 31, 31, 31, 31, 31, 32, 32, 32, 32, 32, 32, 32, 32, 32, 32, 32, 33, 33, 33, 33, 33, 33, 33, 33, 33, 33, 33, 33, 33, 33, 33, 34, 34, 34, 34, 34, 34, 34, 34, 34, 34, 35, 35, 35, 35, 35, 35, 35, 35, 35, 35, 35, 35, 35, 35, 35, 35, 36, 36, 36, 36, 36, 36, 36, 36, 36, 37, 37, 37, 37, 37, 37, 38, 38, 38, 38, 38, 38, 38, 38, 39, 39, 39, 39, 39, 39, 39, 39, 39, 40, 40, 40, 40, 40, 40, 41, 41, 41, 41, 41, 42, 42, 42, 42, 42, 43, 43, 43, 43, 43, 43, 43, 43, 43, 43, 44, 44, 44, 44, 44, 44, 44, 44, 45, 45, 45, 45, 45, 45, 45, 45, 46, 46, 46, 46, 46, 46, 46, 46, 46, 46, 46, 46, 46, 47, 47, 47, 47, 47, 47, 47, 47, 47, 47, 47, 48, 48, 48, 48, 48, 48, 48, 48, 48, 48, 48, 48, 48, 48, 49, 49, 49, 49, 49, 49, 49, 49, 49, 49, 49, 49, 50, 50, 50, 50, 50, 50, 50, 50, 51, 51, 51, 51, 51, 51, 51, 51, 51, 51, 51, 52, 52, 52, 52, 52, 52, 52, 52, 52, 52, 53, 53, 53, 53, 53, 53, 53, 53, 54, 54, 54, 54, 54, 54, 54, 54, 54, 54, 54, 54, 55, 55, 55, 55, 55, 55, 55, 55, 56, 56, 56, 56, 56, 56, 57, 57, 57, 57, 57, 57, 57, 57, 57, 57, 57, 57, 57, 57, 57, 58, 58, 58, 58, 58, 58, 58, 58, 58, 58, 58, 59, 59, 59, 59, 59, 59, 59, 59, 59, 59, 59, 59, 59, 59, 60, 60, 60, 60, 60, 60, 61, 61, 61, 61, 61, 61, 61, 61, 61, 61, 61, 61, 61, 62, 62, 62, 62, 62, 62, 62, 62, 62, 62, 62, 63, 63, 63, 63, 63, 63, 63, 63, 63, 64, 64, 64, 64, 64, 64, 64, 65, 65, 65, 65, 65, 65, 65, 65, 65, 65, 65, 66, 66, 66, 66, 66, 66, 66, 66, 66, 66, 66, 66, 66, 66, 67, 67, 67, 67, 67, 68, 68, 68, 68, 68, 68, 68, 68, 68, 68, 68, 68, 69, 69, 69, 69, 69, 69, 69, 69, 69, 69, 69, 69, 69, 69, 70, 70, 70, 70, 70, 70, 70, 71, 71, 71, 71, 71, 71, 71, 71, 71, 71, 71, 71, 71, 72, 72, 72, 72, 72, 72, 72, 73, 73, 73, 73, 73, 73, 73, 73, 73, 73, 73, 73, 73, 73, 74, 74, 74, 74, 74, 74, 74, 74, 75, 75, 75, 75, 75, 75, 75, 76, 76, 76, 76, 76, 76, 76, 77, 77, 77, 77, 77, 77, 77, 77, 77, 78, 78, 78, 78, 78, 78, 78, 78, 79, 79, 79, 79, 79, 79, 79, 79, 80, 80, 80, 80, 80, 80, 80, 80, 81, 81, 81, 81, 81, 81, 81, 81, 81, 82, 82, 82, 82, 82, 82, 82, 82, 82, 82, 83, 83, 83, 83, 83, 83, 83, 83, 83, 84, 84, 84, 84, 84, 84, 84, 84, 84, 84, 84, 84, 85, 85, 85, 85, 85, 85, 85, 85, 85, 85, 85, 85, 86, 86, 86, 86, 86, 86, 86, 86, 87, 87, 87, 87, 87, 87, 87, 88, 88, 88, 88, 88, 88, 88, 88, 88, 89, 89, 89, 89, 89, 89, 89, 89, 89, 89, 89, 89, 89, 89, 89, 90, 90, 90, 90, 90, 91, 91, 91, 91, 91, 91, 91, 91, 91, 91, 92, 92, 92, 92, 92, 92, 92, 92, 93, 93, 93, 93, 93, 93, 93, 93, 93, 93, 93, 94, 94, 94, 94, 94, 94, 94, 94, 94, 94, 94, 95, 95, 95, 95, 95, 95, 95, 95, 95, 95, 96, 96, 96, 96, 96, 96, 96, 96, 97, 97, 97, 97, 97, 97, 97, 97, 98, 98, 98, 98, 98, 98, 98, 98, 98, 98, 99, 99, 99, 99, 99, 99, 99, 99, 99, 99, 99, 100, 100, 100, 100, 100, 100, 100, 100, 100, 100, 100, 100, 100, 100]\n",
            "runtime : 0.10679221153259277 second\n"
          ]
        }
      ],
      "source": [
        "# set waktu start\n",
        "start_time_bubble = time.time()\n",
        "print(\"Unsorted Array Bubble :\")\n",
        "print(arrBubble)\n",
        "# panggil fungsi bubble sort\n",
        "bubbleSort(arrBubble)\n",
        "# waktu eksekusi\n",
        "time1 = time.time() - start_time_bubble\n",
        "# menambahkan waktu eksekusi bubble ke array\n",
        "arrTimeBubbleSort.append(time1)\n",
        "# menambahkan nilai n ke array\n",
        "arrNsort.append(n)\n",
        "print(\"Sorted Array Bubble :\")\n",
        "print(arrBubble)\n",
        "print(\"runtime : {} second\".format(time1))"
      ]
    },
    {
      "cell_type": "code",
      "execution_count": 23,
      "metadata": {
        "colab": {
          "base_uri": "https://localhost:8080/"
        },
        "id": "fyh-94SUAKUQ",
        "outputId": "51b9688e-aaf0-4cf5-96ca-6b1caf7fd26e"
      },
      "outputs": [
        {
          "output_type": "stream",
          "name": "stdout",
          "text": [
            "Unsorted Array Merge :\n",
            "[18, 7, 28, 91, 71, 40, 79, 67, 30, 73, 94, 4, 36, 35, 58, 33, 62, 17, 46, 33, 31, 100, 89, 96, 46, 22, 74, 28, 75, 99, 62, 20, 39, 8, 41, 35, 32, 88, 17, 73, 59, 35, 8, 16, 61, 96, 0, 35, 56, 44, 20, 80, 37, 100, 47, 27, 31, 85, 44, 78, 98, 20, 43, 33, 30, 2, 28, 57, 72, 80, 89, 74, 52, 69, 58, 48, 14, 17, 44, 89, 83, 70, 72, 26, 9, 74, 20, 10, 46, 3, 86, 30, 29, 5, 61, 52, 19, 0, 78, 10, 69, 98, 87, 48, 89, 26, 19, 88, 54, 57, 84, 45, 61, 4, 98, 46, 7, 51, 13, 27, 16, 17, 89, 14, 7, 66, 20, 39, 68, 15, 25, 23, 1, 69, 76, 97, 82, 75, 16, 100, 81, 28, 65, 54, 15, 66, 69, 1, 38, 83, 94, 36, 30, 44, 41, 9, 34, 31, 58, 61, 18, 31, 35, 77, 87, 97, 61, 3, 43, 5, 98, 24, 84, 78, 9, 50, 6, 33, 68, 39, 75, 11, 79, 81, 5, 28, 10, 54, 19, 98, 8, 54, 94, 85, 36, 14, 77, 88, 35, 84, 73, 27, 29, 84, 81, 95, 39, 68, 41, 85, 21, 17, 88, 51, 93, 53, 9, 65, 21, 91, 99, 61, 68, 95, 30, 84, 63, 41, 65, 58, 42, 5, 47, 84, 96, 99, 24, 66, 47, 31, 38, 63, 37, 87, 27, 40, 33, 71, 16, 15, 31, 63, 3, 89, 25, 16, 15, 45, 86, 85, 39, 89, 53, 38, 11, 10, 76, 21, 67, 57, 64, 98, 67, 74, 73, 77, 64, 68, 52, 7, 43, 46, 2, 32, 16, 85, 9, 77, 66, 60, 29, 90, 28, 30, 93, 93, 99, 57, 31, 0, 46, 1, 94, 65, 9, 32, 22, 13, 53, 96, 57, 0, 55, 63, 20, 8, 16, 15, 100, 76, 92, 58, 25, 31, 11, 35, 89, 17, 4, 5, 7, 30, 66, 23, 48, 15, 91, 49, 15, 24, 28, 78, 29, 55, 18, 51, 52, 36, 5, 47, 1, 71, 23, 92, 0, 73, 100, 99, 87, 9, 66, 96, 48, 33, 3, 93, 1, 56, 30, 21, 70, 5, 79, 49, 40, 9, 6, 35, 80, 55, 20, 46, 99, 51, 13, 20, 71, 92, 0, 19, 64, 82, 71, 81, 70, 11, 45, 22, 73, 71, 57, 46, 9, 92, 81, 50, 79, 15, 47, 38, 73, 81, 0, 5, 97, 16, 24, 5, 88, 48, 74, 24, 12, 17, 55, 66, 69, 82, 24, 7, 0, 65, 1, 44, 65, 59, 42, 89, 42, 84, 88, 90, 95, 84, 95, 84, 77, 49, 99, 77, 56, 47, 67, 14, 25, 39, 65, 80, 27, 67, 44, 68, 34, 0, 59, 84, 50, 46, 78, 74, 38, 69, 3, 72, 12, 71, 82, 92, 6, 50, 3, 66, 35, 30, 33, 19, 53, 1, 54, 48, 100, 93, 12, 73, 2, 82, 17, 63, 3, 49, 26, 89, 93, 80, 94, 98, 47, 71, 89, 59, 46, 58, 0, 13, 95, 44, 31, 85, 14, 32, 56, 86, 23, 33, 9, 98, 11, 74, 49, 14, 28, 62, 27, 54, 97, 29, 5, 29, 24, 98, 96, 4, 2, 43, 9, 5, 89, 82, 54, 79, 61, 30, 34, 34, 62, 59, 32, 7, 93, 52, 6, 47, 34, 78, 63, 32, 100, 20, 2, 91, 15, 45, 11, 100, 57, 71, 16, 90, 66, 51, 40, 68, 52, 49, 20, 57, 69, 39, 64, 85, 12, 84, 46, 61, 93, 17, 57, 45, 42, 45, 8, 94, 47, 73, 94, 4, 57, 19, 60, 2, 69, 57, 27, 72, 44, 86, 58, 83, 24, 31, 68, 10, 31, 56, 1, 93, 50, 49, 32, 35, 2, 8, 7, 59, 22, 43, 75, 97, 0, 33, 79, 83, 25, 36, 59, 76, 46, 16, 50, 34, 55, 55, 64, 51, 42, 27, 53, 85, 65, 9, 63, 32, 22, 43, 38, 99, 16, 76, 48, 80, 68, 100, 60, 21, 17, 87, 1, 62, 13, 25, 71, 77, 73, 81, 56, 32, 13, 24, 73, 70, 66, 87, 87, 35, 0, 18, 33, 73, 36, 13, 95, 73, 24, 6, 11, 46, 65, 51, 6, 50, 59, 35, 70, 83, 47, 5, 23, 86, 14, 57, 69, 88, 27, 66, 3, 1, 82, 99, 91, 51, 62, 79, 17, 33, 35, 1, 93, 88, 1, 37, 60, 17, 6, 66, 26, 53, 91, 39, 68, 16, 2, 3, 43, 22, 83, 33, 85, 21, 17, 34, 53, 32, 60, 54, 37, 98, 8, 100, 0, 32, 55, 97, 95, 99, 58, 71, 69, 78, 37, 27, 48, 71, 68, 80, 61, 91, 35, 27, 15, 62, 14, 95, 54, 100, 51, 73, 33, 43, 72, 20, 22, 54, 76, 74, 14, 19, 91, 48, 9, 100, 90, 8, 52, 54, 59, 62, 47, 55, 14, 71, 70, 62, 57, 61, 78, 66, 36, 94, 97, 83, 34, 45, 83, 6, 53, 49, 3, 72, 94, 86, 8, 43, 81, 31, 5, 33, 66, 51, 48, 10, 62, 96, 35, 49, 86, 64, 3, 59, 92, 20, 58, 45, 0, 3, 19, 94, 39, 61, 91, 26, 51, 34, 19, 69, 100, 61, 63, 69, 97, 65, 52, 63, 48, 36, 40, 48, 36, 8, 49, 34, 14, 37, 40, 79, 91, 29, 8, 69, 84, 70, 58, 5, 89, 48, 49, 41, 95, 93, 38, 83, 57, 75, 15, 90, 48, 76, 81, 86, 50, 72, 59, 75, 61, 89, 38, 20, 59, 2, 60, 89, 59, 85, 68, 10, 92, 85, 100, 43, 24, 19, 75, 69, 80, 12, 96, 28, 58, 12, 2, 11, 2, 77, 19, 88, 31, 59, 52, 94, 82, 85, 8, 26, 29, 16, 24, 92, 15, 8, 11, 11, 14, 18, 8, 31, 1, 65, 12, 77, 95, 35, 24, 82, 64, 7, 82, 21, 12, 62, 25, 21, 52, 29, 29, 57, 2, 33, 99, 18, 49, 54]\n",
            "Sorted Array Merge :\n",
            "[0, 0, 0, 0, 0, 0, 0, 0, 0, 0, 0, 0, 0, 0, 1, 1, 1, 1, 1, 1, 1, 1, 1, 1, 1, 1, 1, 2, 2, 2, 2, 2, 2, 2, 2, 2, 2, 2, 2, 3, 3, 3, 3, 3, 3, 3, 3, 3, 3, 3, 3, 4, 4, 4, 4, 4, 5, 5, 5, 5, 5, 5, 5, 5, 5, 5, 5, 5, 5, 5, 6, 6, 6, 6, 6, 6, 6, 6, 7, 7, 7, 7, 7, 7, 7, 7, 7, 8, 8, 8, 8, 8, 8, 8, 8, 8, 8, 8, 8, 8, 8, 9, 9, 9, 9, 9, 9, 9, 9, 9, 9, 9, 9, 9, 10, 10, 10, 10, 10, 10, 10, 11, 11, 11, 11, 11, 11, 11, 11, 11, 11, 12, 12, 12, 12, 12, 12, 12, 12, 13, 13, 13, 13, 13, 13, 13, 14, 14, 14, 14, 14, 14, 14, 14, 14, 14, 14, 14, 15, 15, 15, 15, 15, 15, 15, 15, 15, 15, 15, 15, 16, 16, 16, 16, 16, 16, 16, 16, 16, 16, 16, 16, 16, 17, 17, 17, 17, 17, 17, 17, 17, 17, 17, 17, 17, 17, 18, 18, 18, 18, 18, 18, 19, 19, 19, 19, 19, 19, 19, 19, 19, 19, 19, 20, 20, 20, 20, 20, 20, 20, 20, 20, 20, 20, 20, 20, 21, 21, 21, 21, 21, 21, 21, 21, 22, 22, 22, 22, 22, 22, 22, 23, 23, 23, 23, 23, 24, 24, 24, 24, 24, 24, 24, 24, 24, 24, 24, 24, 24, 25, 25, 25, 25, 25, 25, 25, 26, 26, 26, 26, 26, 26, 27, 27, 27, 27, 27, 27, 27, 27, 27, 27, 27, 28, 28, 28, 28, 28, 28, 28, 28, 28, 29, 29, 29, 29, 29, 29, 29, 29, 29, 29, 30, 30, 30, 30, 30, 30, 30, 30, 30, 30, 31, 31, 31, 31, 31, 31, 31, 31, 31, 31, 31, 31, 31, 31, 32, 32, 32, 32, 32, 32, 32, 32, 32, 32, 32, 33, 33, 33, 33, 33, 33, 33, 33, 33, 33, 33, 33, 33, 33, 33, 34, 34, 34, 34, 34, 34, 34, 34, 34, 34, 35, 35, 35, 35, 35, 35, 35, 35, 35, 35, 35, 35, 35, 35, 35, 35, 36, 36, 36, 36, 36, 36, 36, 36, 36, 37, 37, 37, 37, 37, 37, 38, 38, 38, 38, 38, 38, 38, 38, 39, 39, 39, 39, 39, 39, 39, 39, 39, 40, 40, 40, 40, 40, 40, 41, 41, 41, 41, 41, 42, 42, 42, 42, 42, 43, 43, 43, 43, 43, 43, 43, 43, 43, 43, 44, 44, 44, 44, 44, 44, 44, 44, 45, 45, 45, 45, 45, 45, 45, 45, 46, 46, 46, 46, 46, 46, 46, 46, 46, 46, 46, 46, 46, 47, 47, 47, 47, 47, 47, 47, 47, 47, 47, 47, 48, 48, 48, 48, 48, 48, 48, 48, 48, 48, 48, 48, 48, 48, 49, 49, 49, 49, 49, 49, 49, 49, 49, 49, 49, 49, 50, 50, 50, 50, 50, 50, 50, 50, 51, 51, 51, 51, 51, 51, 51, 51, 51, 51, 51, 52, 52, 52, 52, 52, 52, 52, 52, 52, 52, 53, 53, 53, 53, 53, 53, 53, 53, 54, 54, 54, 54, 54, 54, 54, 54, 54, 54, 54, 54, 55, 55, 55, 55, 55, 55, 55, 55, 56, 56, 56, 56, 56, 56, 57, 57, 57, 57, 57, 57, 57, 57, 57, 57, 57, 57, 57, 57, 57, 58, 58, 58, 58, 58, 58, 58, 58, 58, 58, 58, 59, 59, 59, 59, 59, 59, 59, 59, 59, 59, 59, 59, 59, 59, 60, 60, 60, 60, 60, 60, 61, 61, 61, 61, 61, 61, 61, 61, 61, 61, 61, 61, 61, 62, 62, 62, 62, 62, 62, 62, 62, 62, 62, 62, 63, 63, 63, 63, 63, 63, 63, 63, 63, 64, 64, 64, 64, 64, 64, 64, 65, 65, 65, 65, 65, 65, 65, 65, 65, 65, 65, 66, 66, 66, 66, 66, 66, 66, 66, 66, 66, 66, 66, 66, 66, 67, 67, 67, 67, 67, 68, 68, 68, 68, 68, 68, 68, 68, 68, 68, 68, 68, 69, 69, 69, 69, 69, 69, 69, 69, 69, 69, 69, 69, 69, 69, 70, 70, 70, 70, 70, 70, 70, 71, 71, 71, 71, 71, 71, 71, 71, 71, 71, 71, 71, 71, 72, 72, 72, 72, 72, 72, 72, 73, 73, 73, 73, 73, 73, 73, 73, 73, 73, 73, 73, 73, 73, 74, 74, 74, 74, 74, 74, 74, 74, 75, 75, 75, 75, 75, 75, 75, 76, 76, 76, 76, 76, 76, 76, 77, 77, 77, 77, 77, 77, 77, 77, 77, 78, 78, 78, 78, 78, 78, 78, 78, 79, 79, 79, 79, 79, 79, 79, 79, 80, 80, 80, 80, 80, 80, 80, 80, 81, 81, 81, 81, 81, 81, 81, 81, 81, 82, 82, 82, 82, 82, 82, 82, 82, 82, 82, 83, 83, 83, 83, 83, 83, 83, 83, 83, 84, 84, 84, 84, 84, 84, 84, 84, 84, 84, 84, 84, 85, 85, 85, 85, 85, 85, 85, 85, 85, 85, 85, 85, 86, 86, 86, 86, 86, 86, 86, 86, 87, 87, 87, 87, 87, 87, 87, 88, 88, 88, 88, 88, 88, 88, 88, 88, 89, 89, 89, 89, 89, 89, 89, 89, 89, 89, 89, 89, 89, 89, 89, 90, 90, 90, 90, 90, 91, 91, 91, 91, 91, 91, 91, 91, 91, 91, 92, 92, 92, 92, 92, 92, 92, 92, 93, 93, 93, 93, 93, 93, 93, 93, 93, 93, 93, 94, 94, 94, 94, 94, 94, 94, 94, 94, 94, 94, 95, 95, 95, 95, 95, 95, 95, 95, 95, 95, 96, 96, 96, 96, 96, 96, 96, 96, 97, 97, 97, 97, 97, 97, 97, 97, 98, 98, 98, 98, 98, 98, 98, 98, 98, 98, 99, 99, 99, 99, 99, 99, 99, 99, 99, 99, 99, 100, 100, 100, 100, 100, 100, 100, 100, 100, 100, 100, 100, 100, 100]\n",
            "runtime : 0.009696006774902344 second\n"
          ]
        }
      ],
      "source": [
        "# set waktu start\n",
        "start_time_merge = time.time()\n",
        "print(\"Unsorted Array Merge :\")\n",
        "print(arrMerge)\n",
        "# panggil fungsi merge sort\n",
        "mergeSort(arrMerge, 0, n-1)\n",
        "# waktu eksekusi\n",
        "time2 = time.time() - start_time_merge\n",
        "# menambahkan waktu eksekusi merge ke array\n",
        "arrTimeMergeSort.append(time2)\n",
        "print(\"Sorted Array Merge :\")\n",
        "print(arrMerge)\n",
        "print(\"runtime : {} second\".format(time2))"
      ]
    },
    {
      "cell_type": "code",
      "execution_count": 26,
      "metadata": {
        "colab": {
          "base_uri": "https://localhost:8080/",
          "height": 456
        },
        "id": "p9NH0OYAFzo7",
        "outputId": "fbf61294-8f85-4f97-8987-1e040e904727"
      },
      "outputs": [
        {
          "output_type": "stream",
          "name": "stdout",
          "text": [
            "Runtime Bubble Sort : [0.0029685497283935547, 0.002736330032348633, 0.00113677978515625, 0.027702808380126953, 0.10679221153259277]\n",
            "Runtime Merge Sort : [0.0020067691802978516, 0.003264904022216797, 0.0022995471954345703, 0.0038864612579345703, 0.009696006774902344]\n",
            "[10, 50, 100, 500, 1000]\n"
          ]
        },
        {
          "output_type": "display_data",
          "data": {
            "text/plain": [
              "<Figure size 720x432 with 1 Axes>"
            ],
            "image/png": "[encoded data removed]"
          },
          "metadata": {
            "needs_background": "light"
          }
        }
      ],
      "source": [
        "# library untuk menampilkan grafik\n",
        "import matplotlib.pyplot as plt\n",
        "from matplotlib.ticker import FormatStrFormatter\n",
        "from matplotlib.ticker import ScalarFormatter\n",
        "\n",
        "plt.figure(figsize=(10,6))\n",
        "print(\"Runtime Bubble Sort : \", end=\"\")\n",
        "print(arrTimeBubbleSort)\n",
        "print(\"Runtime Merge Sort : \", end=\"\")\n",
        "print(arrTimeMergeSort)\n",
        "print(arrNsort)\n",
        "plt.xlabel(\"Nilai N\")\n",
        "plt.ylabel(\"Runtime in second\")\n",
        "plt.title(\"Runtime Bubble and Merge Sort\")\n",
        "plt.plot(arrNsort, arrTimeBubbleSort, label = \"Runtime Bubble Sort\")\n",
        "plt.plot(arrNsort, arrTimeMergeSort, label = \"Runtime Merge Sort\")\n",
        "plt.yscale(\"log\")\n",
        "plt.xscale(\"log\")\n",
        "plt.gca().yaxis.set_major_formatter(FormatStrFormatter('%.5g'))\n",
        "plt.gca().xaxis.set_major_formatter(FormatStrFormatter('%.5g'))\n",
        "plt.legend(loc=\"upper left\")\n",
        "plt.grid(True)\n",
        "plt.show()"
      ]
    },
    {
      "cell_type": "code",
      "source": [
        ""
      ],
      "metadata": {
        "id": "XZkH42C2-1sJ"
      },
      "execution_count": null,
      "outputs": []
    }
  ],
  "metadata": {
    "colab": {
      "collapsed_sections": [],
      "name": "Kompleksitas Algoritma Sorting Bubble dan Merge Sort.ipynb",
      "provenance": []
    },
    "kernelspec": {
      "display_name": "Python 3",
      "name": "python3"
    },
    "language_info": {
      "name": "python"
    }
  },
  "nbformat": 4,
  "nbformat_minor": 0
}